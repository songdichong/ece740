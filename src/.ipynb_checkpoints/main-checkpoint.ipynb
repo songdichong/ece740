{
 "cells": [
  {
   "cell_type": "code",
   "execution_count": 2,
   "metadata": {
    "pycharm": {
     "is_executing": true
    }
   },
   "outputs": [
    {
     "ename": "ModuleNotFoundError",
     "evalue": "No module named 'click'",
     "output_type": "error",
     "traceback": [
      "\u001b[1;31m---------------------------------------------------------------------------\u001b[0m",
      "\u001b[1;31mModuleNotFoundError\u001b[0m                       Traceback (most recent call last)",
      "Cell \u001b[1;32mIn[2], line 1\u001b[0m\n\u001b[1;32m----> 1\u001b[0m \u001b[38;5;28;01mimport\u001b[39;00m \u001b[38;5;21;01mclick\u001b[39;00m\n\u001b[0;32m      2\u001b[0m \u001b[38;5;28;01mimport\u001b[39;00m \u001b[38;5;21;01mtorch\u001b[39;00m\n\u001b[0;32m      3\u001b[0m \u001b[38;5;28;01mimport\u001b[39;00m \u001b[38;5;21;01mlogging\u001b[39;00m\n",
      "\u001b[1;31mModuleNotFoundError\u001b[0m: No module named 'click'"
     ]
    }
   ],
   "source": [
    "import click\n",
    "import torch\n",
    "import logging\n",
    "import random\n",
    "import numpy as np\n",
    "\n",
    "from utils.config import Config\n",
    "from utils.visualization.plot_images_grid import plot_images_grid\n",
    "from DeepSAD import DeepSAD\n",
    "from datasets.main import load_dataset"
   ]
  },
  {
   "cell_type": "code",
   "execution_count": 1,
   "metadata": {},
   "outputs": [
    {
     "ename": "NameError",
     "evalue": "name 'Config' is not defined",
     "output_type": "error",
     "traceback": [
      "\u001b[1;31m---------------------------------------------------------------------------\u001b[0m",
      "\u001b[1;31mNameError\u001b[0m                                 Traceback (most recent call last)",
      "Cell \u001b[1;32mIn[1], line 2\u001b[0m\n\u001b[0;32m      1\u001b[0m \u001b[38;5;66;03m# Get configuration\u001b[39;00m\n\u001b[1;32m----> 2\u001b[0m cfg \u001b[38;5;241m=\u001b[39m \u001b[43mConfig\u001b[49m(\u001b[38;5;28mlocals\u001b[39m()\u001b[38;5;241m.\u001b[39mcopy())\n\u001b[0;32m      3\u001b[0m xp_path \u001b[38;5;241m=\u001b[39m \u001b[38;5;124m\"\u001b[39m\u001b[38;5;124m../log\u001b[39m\u001b[38;5;124m\"\u001b[39m\n\u001b[0;32m      4\u001b[0m data_path \u001b[38;5;241m=\u001b[39m \u001b[38;5;124m\"\u001b[39m\u001b[38;5;124m../data\u001b[39m\u001b[38;5;124m\"\u001b[39m\n",
      "\u001b[1;31mNameError\u001b[0m: name 'Config' is not defined"
     ]
    }
   ],
   "source": [
    "# Get configuration\n",
    "cfg = Config(locals().copy())\n",
    "xp_path = \"../log\"\n",
    "data_path = \"../data\"\n",
    "dataset_name = 'cifar10'\n",
    "normal_class = 0\n",
    "ratio_known_outlier = 0.01\n",
    "ratio_known_normal = 0\n",
    "ratio_pollution = 0.1\n",
    "n_known_outlier_classes = 9\n",
    "known_outlier_class = 1\n",
    "net_name = 'ResNet_18'\n",
    "load_config = None\n",
    "num_threads = 0\n",
    "n_jobs_dataloader = 0\n",
    "seed = 0 \n",
    "eta = 1.0\n",
    "# Set up logging\n",
    "logging.basicConfig(level=logging.INFO)\n",
    "logger = logging.getLogger()\n",
    "logger.setLevel(logging.INFO)\n",
    "formatter = logging.Formatter('%(asctime)s - %(name)s - %(levelname)s - %(message)s')\n",
    "log_file = xp_path + '/log.txt'\n",
    "file_handler = logging.FileHandler(log_file)\n",
    "file_handler.setLevel(logging.INFO)\n",
    "file_handler.setFormatter(formatter)\n",
    "logger.addHandler(file_handler)\n",
    "\n",
    "# Print paths\n",
    "logger.info('Log file is %s' % log_file)\n",
    "logger.info('Data path is %s' % data_path)\n",
    "logger.info('Export path is %s' % xp_path)\n",
    "\n",
    "# Print experimental setup\n",
    "logger.info('Dataset: %s' % dataset_name)\n",
    "logger.info('Normal class: %d' % normal_class)\n",
    "logger.info('Ratio of labeled normal train samples: %.2f' % ratio_known_normal)\n",
    "logger.info('Ratio of labeled anomalous samples: %.2f' % ratio_known_outlier)\n",
    "logger.info('Pollution ratio of unlabeled train data: %.2f' % ratio_pollution)\n",
    "if n_known_outlier_classes == 1:\n",
    "    logger.info('Known anomaly class: %d' % known_outlier_class)\n",
    "else:\n",
    "    logger.info('Number of known anomaly classes: %d' % n_known_outlier_classes)\n",
    "    logger.info('Network: %s' % net_name)\n",
    "\n",
    "# If specified, load experiment config from JSON-file\n",
    "if load_config:\n",
    "    cfg.load_config(import_json=load_config)\n",
    "    logger.info('Loaded configuration from %s.' % load_config)\n",
    "\n",
    "# Print model configuration\n",
    "logger.info('Eta-parameter: %.2f' % eta)\n",
    "\n",
    "\n",
    "\n",
    "# Default device to 'cpu' if cuda is not available\n",
    "device = 'cuda'\n",
    "if not torch.cuda.is_available():\n",
    "    device = 'cpu'\n",
    "# Set the number of threads used for parallelizing CPU operations\n",
    "if num_threads > 0:\n",
    "    torch.set_num_threads(num_threads)\n",
    "    logger.info('Computation device: %s' % device)\n",
    "    logger.info('Number of threads: %d' % num_threads)\n",
    "    logger.info('Number of dataloader workers: %d' % n_jobs_dataloader)\n",
    "# Load data\n",
    "dataset = load_dataset(dataset_name, data_path, normal_class, known_outlier_class, n_known_outlier_classes,\n",
    "                        ratio_known_normal, ratio_known_outlier, ratio_pollution,\n",
    "                        random_state=np.random.RandomState(cfg.settings['seed']))\n"
   ]
  },
  {
   "cell_type": "code",
   "execution_count": 14,
   "metadata": {},
   "outputs": [
    {
     "name": "stdout",
     "output_type": "stream",
     "text": [
      "AutoAttck_CIFAR10_Dataset\n"
     ]
    }
   ],
   "source": [
    "print(dataset)"
   ]
  },
  {
   "cell_type": "code",
   "execution_count": 8,
   "metadata": {},
   "outputs": [
    {
     "name": "stderr",
     "output_type": "stream",
     "text": [
      "INFO:root:Known anomaly classes: (7, 9, 1, 3, 5, 4, 2, 6, 8)\n"
     ]
    }
   ],
   "source": [
    "# Log random sample of known anomaly classes if more than 1 class\n",
    "if n_known_outlier_classes > 1:\n",
    "    logger.info('Known anomaly classes: %s' % (dataset.known_outlier_classes,))\n",
    "\n",
    "# Initialize DeepSAD model and set neural network phi\n",
    "deepSAD = DeepSAD(eta)\n",
    "deepSAD.set_network(net_name)"
   ]
  },
  {
   "cell_type": "code",
   "execution_count": 12,
   "metadata": {},
   "outputs": [
    {
     "name": "stderr",
     "output_type": "stream",
     "text": [
      "INFO:root:Pretraining optimizer: adam\n",
      "INFO:root:Pretraining learning rate: 0.0001\n",
      "INFO:root:Pretraining epochs: 100\n",
      "INFO:root:Pretraining learning rate scheduler milestones: [20, 50, 75]\n",
      "INFO:root:Pretraining batch size: 128\n",
      "INFO:root:Pretraining weight decay: 1e-06\n",
      "INFO:root:Starting pretraining...\n"
     ]
    },
    {
     "ename": "TypeError",
     "evalue": "Cannot handle this data type: (1, 1, 32), <f4",
     "output_type": "error",
     "traceback": [
      "\u001b[1;31m---------------------------------------------------------------------------\u001b[0m",
      "\u001b[1;31mKeyError\u001b[0m                                  Traceback (most recent call last)",
      "File \u001b[1;32mc:\\Users\\songd\\AppData\\Local\\Programs\\Python\\Python39\\lib\\site-packages\\PIL\\Image.py:3080\u001b[0m, in \u001b[0;36mfromarray\u001b[1;34m(obj, mode)\u001b[0m\n\u001b[0;32m   3079\u001b[0m \u001b[39mtry\u001b[39;00m:\n\u001b[1;32m-> 3080\u001b[0m     mode, rawmode \u001b[39m=\u001b[39m _fromarray_typemap[typekey]\n\u001b[0;32m   3081\u001b[0m \u001b[39mexcept\u001b[39;00m \u001b[39mKeyError\u001b[39;00m \u001b[39mas\u001b[39;00m e:\n",
      "\u001b[1;31mKeyError\u001b[0m: ((1, 1, 32), '<f4')",
      "\nThe above exception was the direct cause of the following exception:\n",
      "\u001b[1;31mTypeError\u001b[0m                                 Traceback (most recent call last)",
      "Cell \u001b[1;32mIn[12], line 15\u001b[0m\n\u001b[0;32m     12\u001b[0m logger\u001b[39m.\u001b[39minfo(\u001b[39m'\u001b[39m\u001b[39mPretraining weight decay: \u001b[39m\u001b[39m%g\u001b[39;00m\u001b[39m'\u001b[39m \u001b[39m%\u001b[39m ae_weight_decay)\n\u001b[0;32m     14\u001b[0m \u001b[39m# Pretrain model on dataset (via autoencoder)\u001b[39;00m\n\u001b[1;32m---> 15\u001b[0m deepSAD\u001b[39m.\u001b[39;49mpretrain(dataset,\n\u001b[0;32m     16\u001b[0m                     optimizer_name\u001b[39m=\u001b[39;49mae_optimizer_name,\n\u001b[0;32m     17\u001b[0m                     lr\u001b[39m=\u001b[39;49m ae_lr,\n\u001b[0;32m     18\u001b[0m                     n_epochs\u001b[39m=\u001b[39;49mae_n_epochs,\n\u001b[0;32m     19\u001b[0m                     lr_milestones\u001b[39m=\u001b[39;49mae_lr_milestone,\n\u001b[0;32m     20\u001b[0m                     batch_size\u001b[39m=\u001b[39;49mae_batch_size,\n\u001b[0;32m     21\u001b[0m                     weight_decay\u001b[39m=\u001b[39;49mae_weight_decay,\n\u001b[0;32m     22\u001b[0m                     device\u001b[39m=\u001b[39;49mdevice,\n\u001b[0;32m     23\u001b[0m                     n_jobs_dataloader\u001b[39m=\u001b[39;49mn_jobs_dataloader)\n\u001b[0;32m     25\u001b[0m \u001b[39m# Save pretraining results\u001b[39;00m\n\u001b[0;32m     26\u001b[0m deepSAD\u001b[39m.\u001b[39msave_ae_results(export_json\u001b[39m=\u001b[39mxp_path \u001b[39m+\u001b[39m \u001b[39m'\u001b[39m\u001b[39m/ae_results.json\u001b[39m\u001b[39m'\u001b[39m)\n",
      "File \u001b[1;32mc:\\Users\\songd\\Desktop\\ece740\\Deep-SAD-PyTorch\\src\\DeepSAD.py:101\u001b[0m, in \u001b[0;36mDeepSAD.pretrain\u001b[1;34m(self, dataset, optimizer_name, lr, n_epochs, lr_milestones, batch_size, weight_decay, device, n_jobs_dataloader)\u001b[0m\n\u001b[0;32m     97\u001b[0m \u001b[39mself\u001b[39m\u001b[39m.\u001b[39mae_optimizer_name \u001b[39m=\u001b[39m optimizer_name\n\u001b[0;32m     98\u001b[0m \u001b[39mself\u001b[39m\u001b[39m.\u001b[39mae_trainer \u001b[39m=\u001b[39m AETrainer(optimizer_name, lr\u001b[39m=\u001b[39mlr, n_epochs\u001b[39m=\u001b[39mn_epochs, lr_milestones\u001b[39m=\u001b[39mlr_milestones,\n\u001b[0;32m     99\u001b[0m                             batch_size\u001b[39m=\u001b[39mbatch_size, weight_decay\u001b[39m=\u001b[39mweight_decay, device\u001b[39m=\u001b[39mdevice,\n\u001b[0;32m    100\u001b[0m                             n_jobs_dataloader\u001b[39m=\u001b[39mn_jobs_dataloader)\n\u001b[1;32m--> 101\u001b[0m \u001b[39mself\u001b[39m\u001b[39m.\u001b[39mae_net \u001b[39m=\u001b[39m \u001b[39mself\u001b[39;49m\u001b[39m.\u001b[39;49mae_trainer\u001b[39m.\u001b[39;49mtrain(dataset, \u001b[39mself\u001b[39;49m\u001b[39m.\u001b[39;49mae_net)\n\u001b[0;32m    103\u001b[0m \u001b[39m# Get train results\u001b[39;00m\n\u001b[0;32m    104\u001b[0m \u001b[39mself\u001b[39m\u001b[39m.\u001b[39mae_results[\u001b[39m'\u001b[39m\u001b[39mtrain_time\u001b[39m\u001b[39m'\u001b[39m] \u001b[39m=\u001b[39m \u001b[39mself\u001b[39m\u001b[39m.\u001b[39mae_trainer\u001b[39m.\u001b[39mtrain_time\n",
      "File \u001b[1;32mc:\\Users\\songd\\Desktop\\ece740\\Deep-SAD-PyTorch\\src\\optim\\ae_trainer.py:58\u001b[0m, in \u001b[0;36mAETrainer.train\u001b[1;34m(self, dataset, ae_net)\u001b[0m\n\u001b[0;32m     56\u001b[0m n_batches \u001b[39m=\u001b[39m \u001b[39m0\u001b[39m\n\u001b[0;32m     57\u001b[0m epoch_start_time \u001b[39m=\u001b[39m time\u001b[39m.\u001b[39mtime()\n\u001b[1;32m---> 58\u001b[0m \u001b[39mfor\u001b[39;00m data \u001b[39min\u001b[39;00m train_loader:\n\u001b[0;32m     59\u001b[0m     inputs, _, _, _ \u001b[39m=\u001b[39m data\n\u001b[0;32m     60\u001b[0m     inputs \u001b[39m=\u001b[39m inputs\u001b[39m.\u001b[39mto(\u001b[39mself\u001b[39m\u001b[39m.\u001b[39mdevice)\n",
      "File \u001b[1;32mc:\\Users\\songd\\AppData\\Local\\Programs\\Python\\Python39\\lib\\site-packages\\torch\\utils\\data\\dataloader.py:634\u001b[0m, in \u001b[0;36m_BaseDataLoaderIter.__next__\u001b[1;34m(self)\u001b[0m\n\u001b[0;32m    631\u001b[0m \u001b[39mif\u001b[39;00m \u001b[39mself\u001b[39m\u001b[39m.\u001b[39m_sampler_iter \u001b[39mis\u001b[39;00m \u001b[39mNone\u001b[39;00m:\n\u001b[0;32m    632\u001b[0m     \u001b[39m# TODO(https://github.com/pytorch/pytorch/issues/76750)\u001b[39;00m\n\u001b[0;32m    633\u001b[0m     \u001b[39mself\u001b[39m\u001b[39m.\u001b[39m_reset()  \u001b[39m# type: ignore[call-arg]\u001b[39;00m\n\u001b[1;32m--> 634\u001b[0m data \u001b[39m=\u001b[39m \u001b[39mself\u001b[39;49m\u001b[39m.\u001b[39;49m_next_data()\n\u001b[0;32m    635\u001b[0m \u001b[39mself\u001b[39m\u001b[39m.\u001b[39m_num_yielded \u001b[39m+\u001b[39m\u001b[39m=\u001b[39m \u001b[39m1\u001b[39m\n\u001b[0;32m    636\u001b[0m \u001b[39mif\u001b[39;00m \u001b[39mself\u001b[39m\u001b[39m.\u001b[39m_dataset_kind \u001b[39m==\u001b[39m _DatasetKind\u001b[39m.\u001b[39mIterable \u001b[39mand\u001b[39;00m \\\n\u001b[0;32m    637\u001b[0m         \u001b[39mself\u001b[39m\u001b[39m.\u001b[39m_IterableDataset_len_called \u001b[39mis\u001b[39;00m \u001b[39mnot\u001b[39;00m \u001b[39mNone\u001b[39;00m \u001b[39mand\u001b[39;00m \\\n\u001b[0;32m    638\u001b[0m         \u001b[39mself\u001b[39m\u001b[39m.\u001b[39m_num_yielded \u001b[39m>\u001b[39m \u001b[39mself\u001b[39m\u001b[39m.\u001b[39m_IterableDataset_len_called:\n",
      "File \u001b[1;32mc:\\Users\\songd\\AppData\\Local\\Programs\\Python\\Python39\\lib\\site-packages\\torch\\utils\\data\\dataloader.py:678\u001b[0m, in \u001b[0;36m_SingleProcessDataLoaderIter._next_data\u001b[1;34m(self)\u001b[0m\n\u001b[0;32m    676\u001b[0m \u001b[39mdef\u001b[39;00m \u001b[39m_next_data\u001b[39m(\u001b[39mself\u001b[39m):\n\u001b[0;32m    677\u001b[0m     index \u001b[39m=\u001b[39m \u001b[39mself\u001b[39m\u001b[39m.\u001b[39m_next_index()  \u001b[39m# may raise StopIteration\u001b[39;00m\n\u001b[1;32m--> 678\u001b[0m     data \u001b[39m=\u001b[39m \u001b[39mself\u001b[39;49m\u001b[39m.\u001b[39;49m_dataset_fetcher\u001b[39m.\u001b[39;49mfetch(index)  \u001b[39m# may raise StopIteration\u001b[39;00m\n\u001b[0;32m    679\u001b[0m     \u001b[39mif\u001b[39;00m \u001b[39mself\u001b[39m\u001b[39m.\u001b[39m_pin_memory:\n\u001b[0;32m    680\u001b[0m         data \u001b[39m=\u001b[39m _utils\u001b[39m.\u001b[39mpin_memory\u001b[39m.\u001b[39mpin_memory(data, \u001b[39mself\u001b[39m\u001b[39m.\u001b[39m_pin_memory_device)\n",
      "File \u001b[1;32mc:\\Users\\songd\\AppData\\Local\\Programs\\Python\\Python39\\lib\\site-packages\\torch\\utils\\data\\_utils\\fetch.py:51\u001b[0m, in \u001b[0;36m_MapDatasetFetcher.fetch\u001b[1;34m(self, possibly_batched_index)\u001b[0m\n\u001b[0;32m     49\u001b[0m         data \u001b[39m=\u001b[39m \u001b[39mself\u001b[39m\u001b[39m.\u001b[39mdataset\u001b[39m.\u001b[39m__getitems__(possibly_batched_index)\n\u001b[0;32m     50\u001b[0m     \u001b[39melse\u001b[39;00m:\n\u001b[1;32m---> 51\u001b[0m         data \u001b[39m=\u001b[39m [\u001b[39mself\u001b[39m\u001b[39m.\u001b[39mdataset[idx] \u001b[39mfor\u001b[39;00m idx \u001b[39min\u001b[39;00m possibly_batched_index]\n\u001b[0;32m     52\u001b[0m \u001b[39melse\u001b[39;00m:\n\u001b[0;32m     53\u001b[0m     data \u001b[39m=\u001b[39m \u001b[39mself\u001b[39m\u001b[39m.\u001b[39mdataset[possibly_batched_index]\n",
      "File \u001b[1;32mc:\\Users\\songd\\AppData\\Local\\Programs\\Python\\Python39\\lib\\site-packages\\torch\\utils\\data\\_utils\\fetch.py:51\u001b[0m, in \u001b[0;36m<listcomp>\u001b[1;34m(.0)\u001b[0m\n\u001b[0;32m     49\u001b[0m         data \u001b[39m=\u001b[39m \u001b[39mself\u001b[39m\u001b[39m.\u001b[39mdataset\u001b[39m.\u001b[39m__getitems__(possibly_batched_index)\n\u001b[0;32m     50\u001b[0m     \u001b[39melse\u001b[39;00m:\n\u001b[1;32m---> 51\u001b[0m         data \u001b[39m=\u001b[39m [\u001b[39mself\u001b[39;49m\u001b[39m.\u001b[39;49mdataset[idx] \u001b[39mfor\u001b[39;00m idx \u001b[39min\u001b[39;00m possibly_batched_index]\n\u001b[0;32m     52\u001b[0m \u001b[39melse\u001b[39;00m:\n\u001b[0;32m     53\u001b[0m     data \u001b[39m=\u001b[39m \u001b[39mself\u001b[39m\u001b[39m.\u001b[39mdataset[possibly_batched_index]\n",
      "File \u001b[1;32mc:\\Users\\songd\\AppData\\Local\\Programs\\Python\\Python39\\lib\\site-packages\\torch\\utils\\data\\dataset.py:298\u001b[0m, in \u001b[0;36mSubset.__getitem__\u001b[1;34m(self, idx)\u001b[0m\n\u001b[0;32m    296\u001b[0m \u001b[39mif\u001b[39;00m \u001b[39misinstance\u001b[39m(idx, \u001b[39mlist\u001b[39m):\n\u001b[0;32m    297\u001b[0m     \u001b[39mreturn\u001b[39;00m \u001b[39mself\u001b[39m\u001b[39m.\u001b[39mdataset[[\u001b[39mself\u001b[39m\u001b[39m.\u001b[39mindices[i] \u001b[39mfor\u001b[39;00m i \u001b[39min\u001b[39;00m idx]]\n\u001b[1;32m--> 298\u001b[0m \u001b[39mreturn\u001b[39;00m \u001b[39mself\u001b[39;49m\u001b[39m.\u001b[39;49mdataset[\u001b[39mself\u001b[39;49m\u001b[39m.\u001b[39;49mindices[idx]]\n",
      "File \u001b[1;32mc:\\Users\\songd\\Desktop\\ece740\\Deep-SAD-PyTorch\\src\\datasets\\cifar10.py:159\u001b[0m, in \u001b[0;36mMyCIFAR10.__getitem__\u001b[1;34m(self, index)\u001b[0m\n\u001b[0;32m    156\u001b[0m img, target, semi_target \u001b[39m=\u001b[39m \u001b[39mself\u001b[39m\u001b[39m.\u001b[39mdata[index], \u001b[39mself\u001b[39m\u001b[39m.\u001b[39mtargets[index], \u001b[39mint\u001b[39m(\u001b[39mself\u001b[39m\u001b[39m.\u001b[39msemi_targets[index])\n\u001b[0;32m    157\u001b[0m \u001b[39m# doing this so that it is consistent with all other datasets\u001b[39;00m\n\u001b[0;32m    158\u001b[0m \u001b[39m# to return a PIL Image\u001b[39;00m\n\u001b[1;32m--> 159\u001b[0m img \u001b[39m=\u001b[39m Image\u001b[39m.\u001b[39;49mfromarray(img)\n\u001b[0;32m    160\u001b[0m \u001b[39m# try:\u001b[39;00m\n\u001b[0;32m    161\u001b[0m \u001b[39m#     img = Image.fromarray(img)\u001b[39;00m\n\u001b[0;32m    162\u001b[0m \u001b[39m# except Exception:\u001b[39;00m\n\u001b[0;32m    163\u001b[0m \u001b[39m#     pass\u001b[39;00m\n\u001b[0;32m    164\u001b[0m \u001b[39mif\u001b[39;00m \u001b[39mself\u001b[39m\u001b[39m.\u001b[39mtransform \u001b[39mis\u001b[39;00m \u001b[39mnot\u001b[39;00m \u001b[39mNone\u001b[39;00m:\n",
      "File \u001b[1;32mc:\\Users\\songd\\AppData\\Local\\Programs\\Python\\Python39\\lib\\site-packages\\PIL\\Image.py:3083\u001b[0m, in \u001b[0;36mfromarray\u001b[1;34m(obj, mode)\u001b[0m\n\u001b[0;32m   3081\u001b[0m     \u001b[39mexcept\u001b[39;00m \u001b[39mKeyError\u001b[39;00m \u001b[39mas\u001b[39;00m e:\n\u001b[0;32m   3082\u001b[0m         msg \u001b[39m=\u001b[39m \u001b[39m\"\u001b[39m\u001b[39mCannot handle this data type: \u001b[39m\u001b[39m%s\u001b[39;00m\u001b[39m, \u001b[39m\u001b[39m%s\u001b[39;00m\u001b[39m\"\u001b[39m \u001b[39m%\u001b[39m typekey\n\u001b[1;32m-> 3083\u001b[0m         \u001b[39mraise\u001b[39;00m \u001b[39mTypeError\u001b[39;00m(msg) \u001b[39mfrom\u001b[39;00m \u001b[39me\u001b[39;00m\n\u001b[0;32m   3084\u001b[0m \u001b[39melse\u001b[39;00m:\n\u001b[0;32m   3085\u001b[0m     rawmode \u001b[39m=\u001b[39m mode\n",
      "\u001b[1;31mTypeError\u001b[0m: Cannot handle this data type: (1, 1, 32), <f4"
     ]
    }
   ],
   "source": [
    "ae_optimizer_name = \"adam\"\n",
    "ae_lr = 0.0001\n",
    "ae_n_epochs = 100\n",
    "ae_lr_milestone = [20, 50, 75]\n",
    "ae_batch_size = 128\n",
    "ae_weight_decay = 1e-6\n",
    "logger.info('Pretraining optimizer: %s' % ae_optimizer_name)\n",
    "logger.info('Pretraining learning rate: %g' % ae_lr)\n",
    "logger.info('Pretraining epochs: %d' % ae_n_epochs)\n",
    "logger.info('Pretraining learning rate scheduler milestones: %s' % (ae_lr_milestone,))\n",
    "logger.info('Pretraining batch size: %d' % ae_batch_size)\n",
    "logger.info('Pretraining weight decay: %g' % ae_weight_decay)\n",
    "\n",
    "# Pretrain model on dataset (via autoencoder)\n",
    "deepSAD.pretrain(dataset,\n",
    "                    optimizer_name=ae_optimizer_name,\n",
    "                    lr= ae_lr,\n",
    "                    n_epochs=ae_n_epochs,\n",
    "                    lr_milestones=ae_lr_milestone,\n",
    "                    batch_size=ae_batch_size,\n",
    "                    weight_decay=ae_weight_decay,\n",
    "                    device=device,\n",
    "                    n_jobs_dataloader=n_jobs_dataloader)\n",
    "\n",
    "# Save pretraining results\n",
    "deepSAD.save_ae_results(export_json=xp_path + '/ae_results.json')"
   ]
  }
 ],
 "metadata": {
  "kernelspec": {
   "display_name": "Python 3 (ipykernel)",
   "language": "python",
   "name": "python3"
  },
  "language_info": {
   "codemirror_mode": {
    "name": "ipython",
    "version": 3
   },
   "file_extension": ".py",
   "mimetype": "text/x-python",
   "name": "python",
   "nbconvert_exporter": "python",
   "pygments_lexer": "ipython3",
   "version": "3.9.13"
  }
 },
 "nbformat": 4,
 "nbformat_minor": 2
}
